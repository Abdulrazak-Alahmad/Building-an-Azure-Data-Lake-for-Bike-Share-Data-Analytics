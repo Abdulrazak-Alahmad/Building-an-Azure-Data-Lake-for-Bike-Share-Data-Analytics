{
 "cells": [
  {
   "cell_type": "code",
   "execution_count": 0,
   "metadata": {
    "application/vnd.databricks.v1+cell": {
     "cellMetadata": {
      "byteLimit": 2048000,
      "rowLimit": 10000
     },
     "inputWidgets": {},
     "nuid": "ed2387a8-ebfa-4607-9a71-92293043c058",
     "showTitle": false,
     "title": ""
    }
   },
   "outputs": [],
   "source": [
    "payments = spark.table(\"default.payments\")\n",
    "     \n",
    "\n",
    "payments.write.format(\"delta\").mode(\"overwrite\").saveAsTable(\"default.fact_payments\")"
   ]
  },
  {
   "cell_type": "code",
   "execution_count": 0,
   "metadata": {
    "application/vnd.databricks.v1+cell": {
     "cellMetadata": {
      "byteLimit": 2048000,
      "rowLimit": 10000
     },
     "inputWidgets": {},
     "nuid": "46425f25-93c1-4676-86e2-46cbd7030962",
     "showTitle": false,
     "title": ""
    }
   },
   "outputs": [
    {
     "output_type": "display_data",
     "data": {
      "text/html": [
       "<style scoped>\n  .table-result-container {\n    max-height: 300px;\n    overflow: auto;\n  }\n  table, th, td {\n    border: 1px solid black;\n    border-collapse: collapse;\n  }\n  th, td {\n    padding: 5px;\n  }\n  th {\n    text-align: left;\n  }\n</style><div class='table-result-container'><table class='table-result'><thead style='background-color: white'><tr><th>payment_id</th><th>date</th><th>amount</th><th>rider_id</th></tr></thead><tbody><tr><td>2</td><td>2019-06-01</td><td>9.0</td><td>1000</td></tr><tr><td>3</td><td>2019-07-01</td><td>9.0</td><td>1000</td></tr><tr><td>4</td><td>2019-08-01</td><td>9.0</td><td>1000</td></tr><tr><td>5</td><td>2019-09-01</td><td>9.0</td><td>1000</td></tr><tr><td>6</td><td>2019-10-01</td><td>9.0</td><td>1000</td></tr><tr><td>7</td><td>2019-11-01</td><td>9.0</td><td>1000</td></tr><tr><td>8</td><td>2019-12-01</td><td>9.0</td><td>1000</td></tr><tr><td>9</td><td>2020-01-01</td><td>9.0</td><td>1000</td></tr><tr><td>10</td><td>2020-02-01</td><td>9.0</td><td>1000</td></tr><tr><td>11</td><td>2020-03-01</td><td>9.0</td><td>1000</td></tr></tbody></table></div>"
      ]
     },
     "metadata": {
      "application/vnd.databricks.v1+output": {
       "addedWidgets": {},
       "aggData": [],
       "aggError": "",
       "aggOverflow": false,
       "aggSchema": [],
       "aggSeriesLimitReached": false,
       "aggType": "",
       "arguments": {},
       "columnCustomDisplayInfos": {},
       "data": [
        [
         "2",
         "2019-06-01",
         "9.0",
         "1000"
        ],
        [
         "3",
         "2019-07-01",
         "9.0",
         "1000"
        ],
        [
         "4",
         "2019-08-01",
         "9.0",
         "1000"
        ],
        [
         "5",
         "2019-09-01",
         "9.0",
         "1000"
        ],
        [
         "6",
         "2019-10-01",
         "9.0",
         "1000"
        ],
        [
         "7",
         "2019-11-01",
         "9.0",
         "1000"
        ],
        [
         "8",
         "2019-12-01",
         "9.0",
         "1000"
        ],
        [
         "9",
         "2020-01-01",
         "9.0",
         "1000"
        ],
        [
         "10",
         "2020-02-01",
         "9.0",
         "1000"
        ],
        [
         "11",
         "2020-03-01",
         "9.0",
         "1000"
        ]
       ],
       "datasetInfos": [],
       "dbfsResultPath": null,
       "isJsonSchema": true,
       "metadata": {},
       "overflow": false,
       "plotOptions": {
        "customPlotOptions": {},
        "displayType": "table",
        "pivotAggregation": null,
        "pivotColumns": null,
        "xColumns": null,
        "yColumns": null
       },
       "removedWidgets": [],
       "schema": [
        {
         "metadata": "{}",
         "name": "payment_id",
         "type": "\"string\""
        },
        {
         "metadata": "{}",
         "name": "date",
         "type": "\"string\""
        },
        {
         "metadata": "{}",
         "name": "amount",
         "type": "\"string\""
        },
        {
         "metadata": "{}",
         "name": "rider_id",
         "type": "\"string\""
        }
       ],
       "type": "table"
      }
     },
     "output_type": "display_data"
    }
   ],
   "source": [
    "display(payments.limit(10))"
   ]
  },
  {
   "cell_type": "code",
   "execution_count": 0,
   "metadata": {
    "application/vnd.databricks.v1+cell": {
     "cellMetadata": {
      "byteLimit": 2048000,
      "rowLimit": 10000
     },
     "inputWidgets": {},
     "nuid": "35aad7b5-b2d0-4c27-92b0-56496ba52a68",
     "showTitle": false,
     "title": ""
    }
   },
   "outputs": [],
   "source": [
    "riders = spark.table(\"default.riders\")\n",
    "     \n",
    "\n",
    "riders.dropDuplicates([\"rider_id\"]).write.format(\"delta\").mode(\"overwrite\").saveAsTable(\"default.dim_riders\")"
   ]
  },
  {
   "cell_type": "code",
   "execution_count": 0,
   "metadata": {
    "application/vnd.databricks.v1+cell": {
     "cellMetadata": {
      "byteLimit": 2048000,
      "rowLimit": 10000
     },
     "inputWidgets": {},
     "nuid": "64adccff-a545-4d40-9636-5a05e36f8152",
     "showTitle": false,
     "title": ""
    }
   },
   "outputs": [
    {
     "output_type": "display_data",
     "data": {
      "text/html": [
       "<style scoped>\n  .table-result-container {\n    max-height: 300px;\n    overflow: auto;\n  }\n  table, th, td {\n    border: 1px solid black;\n    border-collapse: collapse;\n  }\n  th, td {\n    padding: 5px;\n  }\n  th {\n    text-align: left;\n  }\n</style><div class='table-result-container'><table class='table-result'><thead style='background-color: white'><tr><th>rider_id</th><th>first_name</th><th>last_name</th><th>address</th><th>birthday</th><th>account_start_date</th><th>account_end_date</th><th>is_member</th></tr></thead><tbody><tr><td>1001</td><td>Jennifer</td><td>Smith</td><td>397 Diana Ferry</td><td>1976-08-10</td><td>2019-11-01</td><td>2020-09-01</td><td>true</td></tr><tr><td>1002</td><td>Karen</td><td>Smith</td><td>644 Brittany Row Apt. 097</td><td>1998-08-10</td><td>2022-02-04</td><td>null</td><td>true</td></tr><tr><td>1003</td><td>Bryan</td><td>Roberts</td><td>996 Dickerson Turnpike</td><td>1999-03-29</td><td>2019-08-26</td><td>null</td><td>false</td></tr><tr><td>1004</td><td>Jesse</td><td>Middleton</td><td>7009 Nathan Expressway</td><td>1969-04-11</td><td>2019-09-14</td><td>null</td><td>true</td></tr><tr><td>1005</td><td>Christine</td><td>Rodriguez</td><td>224 Washington Mills Apt. 467</td><td>1974-08-27</td><td>2020-03-24</td><td>null</td><td>false</td></tr><tr><td>1006</td><td>Alicia</td><td>Taylor</td><td>1137 Angela Locks</td><td>2004-01-30</td><td>2020-11-27</td><td>2021-12-01</td><td>true</td></tr><tr><td>1007</td><td>Benjamin</td><td>Fernandez</td><td>979 Phillips Ways</td><td>1988-01-11</td><td>2016-12-11</td><td>null</td><td>false</td></tr><tr><td>1008</td><td>John</td><td>Crawford</td><td>7691 Evans Court</td><td>1987-02-21</td><td>2021-03-28</td><td>2021-07-01</td><td>true</td></tr><tr><td>1009</td><td>Victoria</td><td>Ritter</td><td>9922 Jim Crest Apt. 319</td><td>1981-02-07</td><td>2020-06-12</td><td>2021-11-01</td><td>true</td></tr><tr><td>1010</td><td>Tracy</td><td>Austin</td><td>92973 Mary Ville</td><td>1996-04-07</td><td>2019-12-27</td><td>null</td><td>true</td></tr></tbody></table></div>"
      ]
     },
     "metadata": {
      "application/vnd.databricks.v1+output": {
       "addedWidgets": {},
       "aggData": [],
       "aggError": "",
       "aggOverflow": false,
       "aggSchema": [],
       "aggSeriesLimitReached": false,
       "aggType": "",
       "arguments": {},
       "columnCustomDisplayInfos": {},
       "data": [
        [
         1001,
         "Jennifer",
         "Smith",
         "397 Diana Ferry",
         "1976-08-10",
         "2019-11-01",
         "2020-09-01",
         true
        ],
        [
         1002,
         "Karen",
         "Smith",
         "644 Brittany Row Apt. 097",
         "1998-08-10",
         "2022-02-04",
         null,
         true
        ],
        [
         1003,
         "Bryan",
         "Roberts",
         "996 Dickerson Turnpike",
         "1999-03-29",
         "2019-08-26",
         null,
         false
        ],
        [
         1004,
         "Jesse",
         "Middleton",
         "7009 Nathan Expressway",
         "1969-04-11",
         "2019-09-14",
         null,
         true
        ],
        [
         1005,
         "Christine",
         "Rodriguez",
         "224 Washington Mills Apt. 467",
         "1974-08-27",
         "2020-03-24",
         null,
         false
        ],
        [
         1006,
         "Alicia",
         "Taylor",
         "1137 Angela Locks",
         "2004-01-30",
         "2020-11-27",
         "2021-12-01",
         true
        ],
        [
         1007,
         "Benjamin",
         "Fernandez",
         "979 Phillips Ways",
         "1988-01-11",
         "2016-12-11",
         null,
         false
        ],
        [
         1008,
         "John",
         "Crawford",
         "7691 Evans Court",
         "1987-02-21",
         "2021-03-28",
         "2021-07-01",
         true
        ],
        [
         1009,
         "Victoria",
         "Ritter",
         "9922 Jim Crest Apt. 319",
         "1981-02-07",
         "2020-06-12",
         "2021-11-01",
         true
        ],
        [
         1010,
         "Tracy",
         "Austin",
         "92973 Mary Ville",
         "1996-04-07",
         "2019-12-27",
         null,
         true
        ]
       ],
       "datasetInfos": [],
       "dbfsResultPath": null,
       "isJsonSchema": true,
       "metadata": {},
       "overflow": false,
       "plotOptions": {
        "customPlotOptions": {},
        "displayType": "table",
        "pivotAggregation": null,
        "pivotColumns": null,
        "xColumns": null,
        "yColumns": null
       },
       "removedWidgets": [],
       "schema": [
        {
         "metadata": "{}",
         "name": "rider_id",
         "type": "\"integer\""
        },
        {
         "metadata": "{}",
         "name": "first_name",
         "type": "\"string\""
        },
        {
         "metadata": "{}",
         "name": "last_name",
         "type": "\"string\""
        },
        {
         "metadata": "{}",
         "name": "address",
         "type": "\"string\""
        },
        {
         "metadata": "{\"__detected_date_formats\":\"yyyy-M-d\"}",
         "name": "birthday",
         "type": "\"date\""
        },
        {
         "metadata": "{\"__detected_date_formats\":\"yyyy-M-d\"}",
         "name": "account_start_date",
         "type": "\"date\""
        },
        {
         "metadata": "{\"__detected_date_formats\":\"yyyy-M-d\"}",
         "name": "account_end_date",
         "type": "\"date\""
        },
        {
         "metadata": "{}",
         "name": "is_member",
         "type": "\"boolean\""
        }
       ],
       "type": "table"
      }
     },
     "output_type": "display_data"
    }
   ],
   "source": [
    "display(riders.limit(10))"
   ]
  },
  {
   "cell_type": "code",
   "execution_count": 0,
   "metadata": {
    "application/vnd.databricks.v1+cell": {
     "cellMetadata": {
      "byteLimit": 2048000,
      "rowLimit": 10000
     },
     "inputWidgets": {},
     "nuid": "cb265d56-eed2-431a-aa32-91946a694dde",
     "showTitle": false,
     "title": ""
    }
   },
   "outputs": [],
   "source": [
    "stations = spark.table(\"default.stations\")\n",
    "     \n",
    "\n",
    "stations.dropDuplicates([\"station_id\"]).write.format(\"delta\").mode(\"overwrite\").saveAsTable(\"default.dim_station\")"
   ]
  },
  {
   "cell_type": "code",
   "execution_count": 0,
   "metadata": {
    "application/vnd.databricks.v1+cell": {
     "cellMetadata": {
      "byteLimit": 2048000,
      "rowLimit": 10000
     },
     "inputWidgets": {},
     "nuid": "be3c9423-ba84-4101-83d0-f7296f8e62d9",
     "showTitle": false,
     "title": ""
    }
   },
   "outputs": [
    {
     "output_type": "display_data",
     "data": {
      "text/html": [
       "<style scoped>\n  .table-result-container {\n    max-height: 300px;\n    overflow: auto;\n  }\n  table, th, td {\n    border: 1px solid black;\n    border-collapse: collapse;\n  }\n  th, td {\n    padding: 5px;\n  }\n  th {\n    text-align: left;\n  }\n</style><div class='table-result-container'><table class='table-result'><thead style='background-color: white'><tr><th>station_id</th><th>name</th><th>latitude</th><th>longitude</th></tr></thead><tbody><tr><td>KA1503000012</td><td>Clark St & Lake St</td><td>41.88579466666667</td><td>-87.63110066666668</td></tr><tr><td>637</td><td>Wood St & Chicago Ave</td><td>41.895634</td><td>-87.672069</td></tr><tr><td>13216</td><td>State St & 33rd St</td><td>41.8347335</td><td>-87.6258275</td></tr><tr><td>18003</td><td>Fairbanks St & Superior St</td><td>41.89580766666667</td><td>-87.62025316666669</td></tr><tr><td>KP1705001026</td><td>LaSalle Dr & Huron St</td><td>41.894877</td><td>-87.632326</td></tr><tr><td>13253</td><td>Lincoln Ave & Waveland Ave</td><td>41.948797</td><td>-87.675278</td></tr><tr><td>KA1503000044</td><td>Rush St & Hubbard St</td><td>41.890173</td><td>-87.62618499999999</td></tr><tr><td>KA1504000140</td><td>Winchester Ave & Elston Ave</td><td>41.92403733333333</td><td>-87.67641483333334</td></tr><tr><td>TA1305000032</td><td>Clinton St & Madison St</td><td>41.882242</td><td>-87.64106600000001</td></tr><tr><td>TA1306000012</td><td>Wells St & Huron St</td><td>41.89475366666667</td><td>-87.63440200000001</td></tr></tbody></table></div>"
      ]
     },
     "metadata": {
      "application/vnd.databricks.v1+output": {
       "addedWidgets": {},
       "aggData": [],
       "aggError": "",
       "aggOverflow": false,
       "aggSchema": [],
       "aggSeriesLimitReached": false,
       "aggType": "",
       "arguments": {},
       "columnCustomDisplayInfos": {},
       "data": [
        [
         "KA1503000012",
         "Clark St & Lake St",
         "41.88579466666667",
         "-87.63110066666668"
        ],
        [
         "637",
         "Wood St & Chicago Ave",
         "41.895634",
         "-87.672069"
        ],
        [
         "13216",
         "State St & 33rd St",
         "41.8347335",
         "-87.6258275"
        ],
        [
         "18003",
         "Fairbanks St & Superior St",
         "41.89580766666667",
         "-87.62025316666669"
        ],
        [
         "KP1705001026",
         "LaSalle Dr & Huron St",
         "41.894877",
         "-87.632326"
        ],
        [
         "13253",
         "Lincoln Ave & Waveland Ave",
         "41.948797",
         "-87.675278"
        ],
        [
         "KA1503000044",
         "Rush St & Hubbard St",
         "41.890173",
         "-87.62618499999999"
        ],
        [
         "KA1504000140",
         "Winchester Ave & Elston Ave",
         "41.92403733333333",
         "-87.67641483333334"
        ],
        [
         "TA1305000032",
         "Clinton St & Madison St",
         "41.882242",
         "-87.64106600000001"
        ],
        [
         "TA1306000012",
         "Wells St & Huron St",
         "41.89475366666667",
         "-87.63440200000001"
        ]
       ],
       "datasetInfos": [],
       "dbfsResultPath": null,
       "isJsonSchema": true,
       "metadata": {},
       "overflow": false,
       "plotOptions": {
        "customPlotOptions": {},
        "displayType": "table",
        "pivotAggregation": null,
        "pivotColumns": null,
        "xColumns": null,
        "yColumns": null
       },
       "removedWidgets": [],
       "schema": [
        {
         "metadata": "{}",
         "name": "station_id",
         "type": "\"string\""
        },
        {
         "metadata": "{}",
         "name": "name",
         "type": "\"string\""
        },
        {
         "metadata": "{}",
         "name": "latitude",
         "type": "\"string\""
        },
        {
         "metadata": "{}",
         "name": "longitude",
         "type": "\"string\""
        }
       ],
       "type": "table"
      }
     },
     "output_type": "display_data"
    }
   ],
   "source": [
    "display(stations.limit(10))"
   ]
  },
  {
   "cell_type": "code",
   "execution_count": 0,
   "metadata": {
    "application/vnd.databricks.v1+cell": {
     "cellMetadata": {
      "byteLimit": 2048000,
      "rowLimit": 10000
     },
     "inputWidgets": {},
     "nuid": "f16a0a0e-b7b4-48ae-8307-485d8d6ec907",
     "showTitle": false,
     "title": ""
    }
   },
   "outputs": [],
   "source": [
    "from pyspark.sql import functions as F \n",
    "from pyspark.sql import types as T \n",
    "from pyspark.sql.types import StringType\n",
    "\n",
    "beginDate = spark.sql('select min(start_at) as start_date FROM trips').first()['start_date'] \n",
    "endDate = spark.sql('select dateadd(year,5,max(start_at)) as end_date FROM trips').first()['end_date'] \n",
    "\n",
    "( spark.sql(f\"select explode(sequence(to_date('{beginDate}'), to_date('{endDate}'), interval 1 day)) as calendarDate\") .createOrReplaceTempView('dim_times') ) \n",
    "\n",
    "df=spark.sql('select * from dim_times') \n",
    "\n",
    "df = df.withColumn(\"time_id\", F.to_timestamp(df.calendarDate, \"yyyy-MM-dd\"))\\\n",
    "  .withColumn(\"d_date\", df.calendarDate.cast(StringType())) \\\n",
    "  .withColumn(\"day_of_month\", F.dayofmonth(df.calendarDate))\\\n",
    "  .withColumn(\"day_of_week\", F.dayofweek(df.calendarDate))\\\n",
    "  .withColumn(\"month\", F.month(df.calendarDate))\\\n",
    "  .withColumn(\"month_name\",F.date_format(df.calendarDate, 'MMMM'))\\\n",
    "  .withColumn(\"year\", F.year(df.calendarDate))\\\n",
    "  .withColumn(\"quarter\", F.quarter(df.calendarDate))\\\n",
    "  .withColumn(\"week_of_year\", F.weekofyear(df.calendarDate))\n",
    "df=df.drop(df.calendarDate)\n",
    "df.write.format('delta').mode('overwrite').saveAsTable('dim_time')"
   ]
  },
  {
   "cell_type": "code",
   "execution_count": 0,
   "metadata": {
    "application/vnd.databricks.v1+cell": {
     "cellMetadata": {
      "byteLimit": 2048000,
      "rowLimit": 10000
     },
     "inputWidgets": {},
     "nuid": "eba2c4d4-64ea-4006-be05-c95b983b8b28",
     "showTitle": false,
     "title": ""
    }
   },
   "outputs": [
    {
     "output_type": "display_data",
     "data": {
      "text/html": [
       "<style scoped>\n  .table-result-container {\n    max-height: 300px;\n    overflow: auto;\n  }\n  table, th, td {\n    border: 1px solid black;\n    border-collapse: collapse;\n  }\n  th, td {\n    padding: 5px;\n  }\n  th {\n    text-align: left;\n  }\n</style><div class='table-result-container'><table class='table-result'><thead style='background-color: white'><tr><th>time_id</th><th>d_date</th><th>day_of_month</th><th>day_of_week</th><th>month</th><th>month_name</th><th>year</th><th>quarter</th><th>week_of_year</th></tr></thead><tbody><tr><td>2021-02-01T00:00:00.000+0000</td><td>2021-02-01</td><td>1</td><td>2</td><td>2</td><td>February</td><td>2021</td><td>1</td><td>5</td></tr><tr><td>2021-02-02T00:00:00.000+0000</td><td>2021-02-02</td><td>2</td><td>3</td><td>2</td><td>February</td><td>2021</td><td>1</td><td>5</td></tr><tr><td>2021-02-03T00:00:00.000+0000</td><td>2021-02-03</td><td>3</td><td>4</td><td>2</td><td>February</td><td>2021</td><td>1</td><td>5</td></tr><tr><td>2021-02-04T00:00:00.000+0000</td><td>2021-02-04</td><td>4</td><td>5</td><td>2</td><td>February</td><td>2021</td><td>1</td><td>5</td></tr><tr><td>2021-02-05T00:00:00.000+0000</td><td>2021-02-05</td><td>5</td><td>6</td><td>2</td><td>February</td><td>2021</td><td>1</td><td>5</td></tr><tr><td>2021-02-06T00:00:00.000+0000</td><td>2021-02-06</td><td>6</td><td>7</td><td>2</td><td>February</td><td>2021</td><td>1</td><td>5</td></tr><tr><td>2021-02-07T00:00:00.000+0000</td><td>2021-02-07</td><td>7</td><td>1</td><td>2</td><td>February</td><td>2021</td><td>1</td><td>5</td></tr><tr><td>2021-02-08T00:00:00.000+0000</td><td>2021-02-08</td><td>8</td><td>2</td><td>2</td><td>February</td><td>2021</td><td>1</td><td>6</td></tr><tr><td>2021-02-09T00:00:00.000+0000</td><td>2021-02-09</td><td>9</td><td>3</td><td>2</td><td>February</td><td>2021</td><td>1</td><td>6</td></tr><tr><td>2021-02-10T00:00:00.000+0000</td><td>2021-02-10</td><td>10</td><td>4</td><td>2</td><td>February</td><td>2021</td><td>1</td><td>6</td></tr></tbody></table></div>"
      ]
     },
     "metadata": {
      "application/vnd.databricks.v1+output": {
       "addedWidgets": {},
       "aggData": [],
       "aggError": "",
       "aggOverflow": false,
       "aggSchema": [],
       "aggSeriesLimitReached": false,
       "aggType": "",
       "arguments": {},
       "columnCustomDisplayInfos": {},
       "data": [
        [
         "2021-02-01T00:00:00.000+0000",
         "2021-02-01",
         1,
         2,
         2,
         "February",
         2021,
         1,
         5
        ],
        [
         "2021-02-02T00:00:00.000+0000",
         "2021-02-02",
         2,
         3,
         2,
         "February",
         2021,
         1,
         5
        ],
        [
         "2021-02-03T00:00:00.000+0000",
         "2021-02-03",
         3,
         4,
         2,
         "February",
         2021,
         1,
         5
        ],
        [
         "2021-02-04T00:00:00.000+0000",
         "2021-02-04",
         4,
         5,
         2,
         "February",
         2021,
         1,
         5
        ],
        [
         "2021-02-05T00:00:00.000+0000",
         "2021-02-05",
         5,
         6,
         2,
         "February",
         2021,
         1,
         5
        ],
        [
         "2021-02-06T00:00:00.000+0000",
         "2021-02-06",
         6,
         7,
         2,
         "February",
         2021,
         1,
         5
        ],
        [
         "2021-02-07T00:00:00.000+0000",
         "2021-02-07",
         7,
         1,
         2,
         "February",
         2021,
         1,
         5
        ],
        [
         "2021-02-08T00:00:00.000+0000",
         "2021-02-08",
         8,
         2,
         2,
         "February",
         2021,
         1,
         6
        ],
        [
         "2021-02-09T00:00:00.000+0000",
         "2021-02-09",
         9,
         3,
         2,
         "February",
         2021,
         1,
         6
        ],
        [
         "2021-02-10T00:00:00.000+0000",
         "2021-02-10",
         10,
         4,
         2,
         "February",
         2021,
         1,
         6
        ]
       ],
       "datasetInfos": [],
       "dbfsResultPath": null,
       "isJsonSchema": true,
       "metadata": {},
       "overflow": false,
       "plotOptions": {
        "customPlotOptions": {},
        "displayType": "table",
        "pivotAggregation": null,
        "pivotColumns": null,
        "xColumns": null,
        "yColumns": null
       },
       "removedWidgets": [],
       "schema": [
        {
         "metadata": "{}",
         "name": "time_id",
         "type": "\"timestamp\""
        },
        {
         "metadata": "{}",
         "name": "d_date",
         "type": "\"string\""
        },
        {
         "metadata": "{}",
         "name": "day_of_month",
         "type": "\"integer\""
        },
        {
         "metadata": "{}",
         "name": "day_of_week",
         "type": "\"integer\""
        },
        {
         "metadata": "{}",
         "name": "month",
         "type": "\"integer\""
        },
        {
         "metadata": "{}",
         "name": "month_name",
         "type": "\"string\""
        },
        {
         "metadata": "{}",
         "name": "year",
         "type": "\"integer\""
        },
        {
         "metadata": "{}",
         "name": "quarter",
         "type": "\"integer\""
        },
        {
         "metadata": "{}",
         "name": "week_of_year",
         "type": "\"integer\""
        }
       ],
       "type": "table"
      }
     },
     "output_type": "display_data"
    }
   ],
   "source": [
    "display(df.limit(10))"
   ]
  },
  {
   "cell_type": "code",
   "execution_count": 0,
   "metadata": {
    "application/vnd.databricks.v1+cell": {
     "cellMetadata": {
      "byteLimit": 2048000,
      "rowLimit": 10000
     },
     "inputWidgets": {},
     "nuid": "a351cd64-7228-4a35-814c-2617dbafc203",
     "showTitle": false,
     "title": ""
    }
   },
   "outputs": [],
   "source": [
    "df=spark.sql('select trip_id,rideable_type,trips.start_at as start_at_id,trips.ended_at as ended_at_id,\\\n",
    "  trips.start_station_id,trips.end_station_id,\\\n",
    "  dim_riders.rider_id,DATEDIFF(YEAR,dim_riders.birthday,trips.start_at) as rider_age,\\\n",
    "  DATEDIFF(MINUTE,trips.start_at,trips.ended_at) duration\\\n",
    "  from trips join dim_riders on trips.rider_id=dim_riders.rider_id') \n",
    "\n",
    "df=df.dropDuplicates(df.columns)\n",
    "df.write.format('delta').mode('overwrite').saveAsTable('fact_trips')"
   ]
  },
  {
   "cell_type": "code",
   "execution_count": 0,
   "metadata": {
    "application/vnd.databricks.v1+cell": {
     "cellMetadata": {
      "byteLimit": 2048000,
      "rowLimit": 10000
     },
     "inputWidgets": {},
     "nuid": "31fe03bf-0be4-47e8-a275-b32476cec066",
     "showTitle": false,
     "title": ""
    }
   },
   "outputs": [
    {
     "output_type": "display_data",
     "data": {
      "text/html": [
       "<style scoped>\n  .table-result-container {\n    max-height: 300px;\n    overflow: auto;\n  }\n  table, th, td {\n    border: 1px solid black;\n    border-collapse: collapse;\n  }\n  th, td {\n    padding: 5px;\n  }\n  th {\n    text-align: left;\n  }\n</style><div class='table-result-container'><table class='table-result'><thead style='background-color: white'><tr><th>trip_id</th><th>rideable_type</th><th>start_at_id</th><th>ended_at_id</th><th>start_station_id</th><th>end_station_id</th><th>rider_id</th><th>rider_age</th><th>duration</th></tr></thead><tbody><tr><td>AB969616E25817D7</td><td>classic_bike</td><td>2021-06-13 00:27:17</td><td>2021-06-13 00:32:30</td><td>13409</td><td>13021</td><td>28101</td><td>37</td><td>5</td></tr><tr><td>5C1CD2814C6C8A59</td><td>classic_bike</td><td>2021-06-02 09:49:19</td><td>2021-06-02 10:00:44</td><td>TA1308000035</td><td>TA1308000009</td><td>72899</td><td>28</td><td>11</td></tr><tr><td>E188A33CEFFB17CA</td><td>classic_bike</td><td>2021-06-09 20:44:26</td><td>2021-06-09 20:56:40</td><td>KA1503000014</td><td>TA1308000009</td><td>74173</td><td>50</td><td>12</td></tr><tr><td>7F99CCC47AAF282C</td><td>classic_bike</td><td>2021-06-01 23:57:43</td><td>2021-06-02 00:54:00</td><td>13008</td><td>TA1308000009</td><td>35258</td><td>30</td><td>56</td></tr><tr><td>74EA07DD1D5B06B8</td><td>classic_bike</td><td>2021-06-28 17:48:41</td><td>2021-06-28 17:58:11</td><td>WL-012</td><td>13434</td><td>33871</td><td>32</td><td>9</td></tr><tr><td>1BA39075CCDED785</td><td>classic_bike</td><td>2021-06-27 16:35:46</td><td>2021-06-27 17:06:04</td><td>KA1503000049</td><td>TA1308000009</td><td>47457</td><td>23</td><td>30</td></tr><tr><td>D8E138EDB9488C6D</td><td>classic_bike</td><td>2021-06-06 15:27:21</td><td>2021-06-06 15:34:38</td><td>TA1306000015</td><td>13434</td><td>1917</td><td>51</td><td>7</td></tr><tr><td>6CE2D4199C20EFE2</td><td>classic_bike</td><td>2021-06-08 08:49:03</td><td>2021-06-08 09:00:49</td><td>13017</td><td>13021</td><td>47296</td><td>25</td><td>11</td></tr><tr><td>22FEF26D39047393</td><td>classic_bike</td><td>2021-06-17 20:02:30</td><td>2021-06-17 20:31:45</td><td>TA1306000011</td><td>13257</td><td>15460</td><td>15</td><td>29</td></tr><tr><td>B6AA7FE8CC7CCB6F</td><td>classic_bike</td><td>2021-06-19 08:27:35</td><td>2021-06-19 08:57:48</td><td>TA1306000013</td><td>TA1308000022</td><td>63404</td><td>44</td><td>30</td></tr></tbody></table></div>"
      ]
     },
     "metadata": {
      "application/vnd.databricks.v1+output": {
       "addedWidgets": {},
       "aggData": [],
       "aggError": "",
       "aggOverflow": false,
       "aggSchema": [],
       "aggSeriesLimitReached": false,
       "aggType": "",
       "arguments": {},
       "columnCustomDisplayInfos": {},
       "data": [
        [
         "AB969616E25817D7",
         "classic_bike",
         "2021-06-13 00:27:17",
         "2021-06-13 00:32:30",
         "13409",
         "13021",
         28101,
         37,
         5
        ],
        [
         "5C1CD2814C6C8A59",
         "classic_bike",
         "2021-06-02 09:49:19",
         "2021-06-02 10:00:44",
         "TA1308000035",
         "TA1308000009",
         72899,
         28,
         11
        ],
        [
         "E188A33CEFFB17CA",
         "classic_bike",
         "2021-06-09 20:44:26",
         "2021-06-09 20:56:40",
         "KA1503000014",
         "TA1308000009",
         74173,
         50,
         12
        ],
        [
         "7F99CCC47AAF282C",
         "classic_bike",
         "2021-06-01 23:57:43",
         "2021-06-02 00:54:00",
         "13008",
         "TA1308000009",
         35258,
         30,
         56
        ],
        [
         "74EA07DD1D5B06B8",
         "classic_bike",
         "2021-06-28 17:48:41",
         "2021-06-28 17:58:11",
         "WL-012",
         "13434",
         33871,
         32,
         9
        ],
        [
         "1BA39075CCDED785",
         "classic_bike",
         "2021-06-27 16:35:46",
         "2021-06-27 17:06:04",
         "KA1503000049",
         "TA1308000009",
         47457,
         23,
         30
        ],
        [
         "D8E138EDB9488C6D",
         "classic_bike",
         "2021-06-06 15:27:21",
         "2021-06-06 15:34:38",
         "TA1306000015",
         "13434",
         1917,
         51,
         7
        ],
        [
         "6CE2D4199C20EFE2",
         "classic_bike",
         "2021-06-08 08:49:03",
         "2021-06-08 09:00:49",
         "13017",
         "13021",
         47296,
         25,
         11
        ],
        [
         "22FEF26D39047393",
         "classic_bike",
         "2021-06-17 20:02:30",
         "2021-06-17 20:31:45",
         "TA1306000011",
         "13257",
         15460,
         15,
         29
        ],
        [
         "B6AA7FE8CC7CCB6F",
         "classic_bike",
         "2021-06-19 08:27:35",
         "2021-06-19 08:57:48",
         "TA1306000013",
         "TA1308000022",
         63404,
         44,
         30
        ]
       ],
       "datasetInfos": [],
       "dbfsResultPath": null,
       "isJsonSchema": true,
       "metadata": {},
       "overflow": false,
       "plotOptions": {
        "customPlotOptions": {},
        "displayType": "table",
        "pivotAggregation": null,
        "pivotColumns": null,
        "xColumns": null,
        "yColumns": null
       },
       "removedWidgets": [],
       "schema": [
        {
         "metadata": "{}",
         "name": "trip_id",
         "type": "\"string\""
        },
        {
         "metadata": "{}",
         "name": "rideable_type",
         "type": "\"string\""
        },
        {
         "metadata": "{}",
         "name": "start_at_id",
         "type": "\"string\""
        },
        {
         "metadata": "{}",
         "name": "ended_at_id",
         "type": "\"string\""
        },
        {
         "metadata": "{}",
         "name": "start_station_id",
         "type": "\"string\""
        },
        {
         "metadata": "{}",
         "name": "end_station_id",
         "type": "\"string\""
        },
        {
         "metadata": "{}",
         "name": "rider_id",
         "type": "\"integer\""
        },
        {
         "metadata": "{}",
         "name": "rider_age",
         "type": "\"long\""
        },
        {
         "metadata": "{}",
         "name": "duration",
         "type": "\"long\""
        }
       ],
       "type": "table"
      }
     },
     "output_type": "display_data"
    }
   ],
   "source": [
    "display(df.limit(10))"
   ]
  },
  {
   "cell_type": "code",
   "execution_count": 0,
   "metadata": {
    "application/vnd.databricks.v1+cell": {
     "cellMetadata": {},
     "inputWidgets": {},
     "nuid": "adc025a0-2aed-44d0-8e72-cabfa9438916",
     "showTitle": false,
     "title": ""
    }
   },
   "outputs": [],
   "source": []
  }
 ],
 "metadata": {
  "application/vnd.databricks.v1+notebook": {
   "dashboards": [],
   "language": "python",
   "notebookMetadata": {
    "pythonIndentUnit": 4
   },
   "notebookName": "Transform",
   "notebookOrigID": 2570466290250315,
   "widgets": {}
  }
 },
 "nbformat": 4,
 "nbformat_minor": 0
}
